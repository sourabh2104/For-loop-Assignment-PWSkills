{
 "cells": [
  {
   "cell_type": "markdown",
   "id": "e84032a2-8ae5-4f4b-ad79-b01bec5455e4",
   "metadata": {},
   "source": [
    "FOR LOOP ASSIGNMENT QUESTIONS!!!\n"
   ]
  },
  {
   "cell_type": "code",
   "execution_count": 2,
   "id": "5977afc9-6e19-4dc8-9484-50dcae868e01",
   "metadata": {},
   "outputs": [
    {
     "name": "stdout",
     "output_type": "stream",
     "text": [
      "1\n",
      "2\n",
      "3\n",
      "4\n",
      "5\n",
      "6\n",
      "7\n",
      "8\n",
      "9\n",
      "10\n"
     ]
    }
   ],
   "source": [
    "# 1. Write a Python program to print the numbers from 1 to 10 using a `for` loop.\n",
    "\n",
    "\n",
    "# Using a for loop to print numbers from 1 to 10.\n",
    "\n",
    "for i in range(1, 11):\n",
    "    print(i)\n"
   ]
  },
  {
   "cell_type": "markdown",
   "id": "8917785c-fb38-4277-af09-3d152ec8e19d",
   "metadata": {},
   "source": [
    "Explanation:\n",
    "\n",
    "We use a for loop to iterate from 1 to 10 (inclusive) using the range() function.\n",
    "The loop variable i takes on values from 1 to 10 in each iteration.\n",
    "We use print() to display the value of i in each iteration."
   ]
  },
  {
   "cell_type": "code",
   "execution_count": 3,
   "id": "f802e176-ad17-4e7d-9c99-02827fd76a60",
   "metadata": {},
   "outputs": [
    {
     "name": "stdout",
     "output_type": "stream",
     "text": [
      "Sum: 15\n"
     ]
    }
   ],
   "source": [
    "# 2. Create a program that calculates the sum of all numbers in a list using a `for` loop.\n",
    "\n",
    "\n",
    "# Calculate the Sum of Numbers in a List using a for loop!!\n",
    "\n",
    "# Initialize a list of numbers\n",
    "numbers = [1, 2, 3, 4, 5]\n",
    "\n",
    "# Initialize a variable to store the sum\n",
    "sum_of_numbers = 0\n",
    "\n",
    "# Using a for loop to calculate the sum\n",
    "for num in numbers:\n",
    "    sum_of_numbers += num\n",
    "\n",
    "# Print the sum\n",
    "print(\"Sum:\", sum_of_numbers)\n"
   ]
  },
  {
   "cell_type": "markdown",
   "id": "2d20597f-be38-4af2-aaaa-df8e2ca4f56e",
   "metadata": {},
   "source": [
    "Explanation:\n",
    "\n",
    "We initialize a list called numbers containing the numbers we want to sum.\n",
    "We initialize a variable sum_of_numbers to store the sum.\n",
    "The for loop iterates through each element num in the numbers list and adds it to sum_of_numbers."
   ]
  },
  {
   "cell_type": "code",
   "execution_count": 4,
   "id": "6eee118f-2ef4-438a-a759-cf894c92a8ce",
   "metadata": {},
   "outputs": [
    {
     "name": "stdout",
     "output_type": "stream",
     "text": [
      "!\n",
      "d\n",
      "l\n",
      "r\n",
      "o\n",
      "W\n",
      " \n",
      ",\n",
      "o\n",
      "l\n",
      "l\n",
      "e\n",
      "H\n"
     ]
    }
   ],
   "source": [
    "# 3. Write a program to print the characters of a string in reverse order using a `for` loop.\n",
    "\n",
    "\n",
    "# Input string\n",
    "input_string = \"Hello, World!\"\n",
    "\n",
    "# Using a for loop to print characters in reverse order\n",
    "for char in reversed(input_string):\n",
    "    print(char)\n"
   ]
  },
  {
   "cell_type": "markdown",
   "id": "3069bc19-e99b-405a-abf1-e903acd983e8",
   "metadata": {},
   "source": [
    "Explanation:\n",
    "\n",
    "We have an input string input_string.\n",
    "The reversed() function is used to reverse the order of characters in the string.\n",
    "The for loop iterates through each character char in the reversed string and prints it."
   ]
  },
  {
   "cell_type": "code",
   "execution_count": 5,
   "id": "2c1e40c9-4b85-460c-9f33-31102c5e0057",
   "metadata": {},
   "outputs": [
    {
     "name": "stdout",
     "output_type": "stream",
     "text": [
      "Factorial of 5 is 120\n"
     ]
    }
   ],
   "source": [
    "# 4. Develop a program that finds the factorial of a given number using a `for` loop.\n",
    "\n",
    "\n",
    "# Input number\n",
    "n = 5\n",
    "\n",
    "# Initialize a variable to store the factorial\n",
    "factorial = 1\n",
    "\n",
    "# Using a for loop to calculate the factorial\n",
    "for i in range(1, n + 1):\n",
    "    factorial *= i\n",
    "\n",
    "# Print the factorial\n",
    "print(\"Factorial of\", n, \"is\", factorial)\n"
   ]
  },
  {
   "cell_type": "markdown",
   "id": "5e45540f-70e6-4bf0-a941-ede52b3f16fd",
   "metadata": {},
   "source": [
    "Explanation:\n",
    "\n",
    "We input a number n for which we want to calculate the factorial.\n",
    "We initialize a variable factorial to store the result.\n",
    "The for loop iterates from 1 to n and multiplies each value by factorial to calculate the factorial."
   ]
  },
  {
   "cell_type": "code",
   "execution_count": 6,
   "id": "21b1efdb-da3b-4047-8dec-d80eaa3ddf60",
   "metadata": {},
   "outputs": [
    {
     "name": "stdout",
     "output_type": "stream",
     "text": [
      "7 x 1 = 7\n",
      "7 x 2 = 14\n",
      "7 x 3 = 21\n",
      "7 x 4 = 28\n",
      "7 x 5 = 35\n",
      "7 x 6 = 42\n",
      "7 x 7 = 49\n",
      "7 x 8 = 56\n",
      "7 x 9 = 63\n",
      "7 x 10 = 70\n"
     ]
    }
   ],
   "source": [
    "# 5. Create a program to print the multiplication table of a given number using a `for` loop\n",
    "\n",
    "\n",
    "# Input number for the multiplication table\n",
    "num = 7\n",
    "\n",
    "# Using a for loop to print the multiplication table\n",
    "for i in range(1, 11):\n",
    "    result = num * i\n",
    "    print(num, \"x\", i, \"=\", result)\n"
   ]
  },
  {
   "cell_type": "markdown",
   "id": "69c877b6-5482-45a3-b830-d24769544dc6",
   "metadata": {},
   "source": [
    "Explanation:\n",
    "\n",
    "We input a number num for which we want to print the multiplication table.\n",
    "The for loop iterates from 1 to 10 and calculates the product of num and i in each iteration.\n"
   ]
  },
  {
   "cell_type": "code",
   "execution_count": 7,
   "id": "484ab864-4ded-48c9-a41d-f3ace10f43ae",
   "metadata": {},
   "outputs": [
    {
     "name": "stdout",
     "output_type": "stream",
     "text": [
      "Even numbers: 5\n",
      "Odd numbers: 5\n"
     ]
    }
   ],
   "source": [
    "# 6. Write a program that counts the number of even and odd numbers in a list using a `for` loop.\n",
    "\n",
    "\n",
    "# Initialize a list of numbers\n",
    "numbers = [1, 2, 3, 4, 5, 6, 7, 8, 9, 10]\n",
    "\n",
    "# Initialize counters for even and odd numbers\n",
    "even_count = 0\n",
    "odd_count = 0\n",
    "\n",
    "# Using a for loop to count even and odd numbers\n",
    "for num in numbers:\n",
    "    if num % 2 == 0:\n",
    "        even_count += 1\n",
    "    else:\n",
    "        odd_count += 1\n",
    "\n",
    "# Print the counts\n",
    "print(\"Even numbers:\", even_count)\n",
    "print(\"Odd numbers:\", odd_count)\n"
   ]
  },
  {
   "cell_type": "markdown",
   "id": "c0f8746c-664f-4c0d-b320-d1df15c44f94",
   "metadata": {},
   "source": [
    "Explanation:\n",
    "\n",
    "We have a list called numbers containing a sequence of numbers.\n",
    "We initialize two counters, even_count and odd_count, to keep track of even and odd numbers.\n",
    "The for loop iterates through each element num in the numbers list and checks whether it's even or odd, incrementing the respective counter accordingly."
   ]
  },
  {
   "cell_type": "code",
   "execution_count": 8,
   "id": "9b17a7cc-bc2d-46b3-94de-5baeb787aed6",
   "metadata": {},
   "outputs": [
    {
     "name": "stdout",
     "output_type": "stream",
     "text": [
      "Square of 1 is 1\n",
      "Square of 2 is 4\n",
      "Square of 3 is 9\n",
      "Square of 4 is 16\n",
      "Square of 5 is 25\n"
     ]
    }
   ],
   "source": [
    "# 7. Develop a program that prints the squares of numbers from 1 to 5 using a `for` loop.\n",
    "\n",
    "\n",
    "# Using a for loop to print squares of numbers from 1 to 5\n",
    "for i in range(1, 6):\n",
    "    square = i * i\n",
    "    print(\"Square of\", i, \"is\", square)\n"
   ]
  },
  {
   "cell_type": "markdown",
   "id": "67f07bb2-212c-4dbf-9d90-347f7778d006",
   "metadata": {},
   "source": [
    "Explanation:\n",
    "\n",
    "The for loop iterates from 1 to 5.\n",
    "In each iteration, it calculates the square of the current value of i and prints it."
   ]
  },
  {
   "cell_type": "code",
   "execution_count": 9,
   "id": "56781de3-bae4-472d-a86b-bb22db146cdc",
   "metadata": {},
   "outputs": [
    {
     "name": "stdout",
     "output_type": "stream",
     "text": [
      "Length of the string is 13\n"
     ]
    }
   ],
   "source": [
    "# 8. Create a program to find the length of a string without using the `len()` function.\n",
    "\n",
    "\n",
    "# Input string\n",
    "input_string = \"Hello, World!\"\n",
    "\n",
    "# Initialize a counter\n",
    "length = 0\n",
    "\n",
    "# Using a for loop to find the length of the string\n",
    "for char in input_string:\n",
    "    length += 1\n",
    "\n",
    "# Print the length\n",
    "print(\"Length of the string is\", length)\n"
   ]
  },
  {
   "cell_type": "markdown",
   "id": "cabf9eb9-26be-4c30-bb58-2532074b5767",
   "metadata": {},
   "source": [
    "Explanation:\n",
    "\n",
    "We have an input string input_string.\n",
    "We initialize a counter length to 0.\n",
    "The for loop iterates through each character in the string and increments the length counter for each character, effectively counting the length of the string."
   ]
  },
  {
   "cell_type": "code",
   "execution_count": 10,
   "id": "b296b237-2161-412c-bb8e-b0e28338b119",
   "metadata": {},
   "outputs": [
    {
     "name": "stdout",
     "output_type": "stream",
     "text": [
      "Average: 30.0\n"
     ]
    }
   ],
   "source": [
    "# 9. Write a program that calculates the average of a list of numbers using a `for` loop.\n",
    "\n",
    "\n",
    "# Initialize a list of numbers\n",
    "numbers = [10, 20, 30, 40, 50]\n",
    "\n",
    "# Initialize variables for sum and count\n",
    "total = 0\n",
    "count = 0\n",
    "\n",
    "# Using a for loop to calculate the sum and count\n",
    "for num in numbers:\n",
    "    total += num\n",
    "    count += 1\n",
    "\n",
    "# Calculate the average\n",
    "average = total / count\n",
    "\n",
    "# Print the average\n",
    "print(\"Average:\", average)\n"
   ]
  },
  {
   "cell_type": "markdown",
   "id": "b7632c7c-957d-42a2-92fd-b0080739208d",
   "metadata": {},
   "source": [
    "Explanation:\n",
    "\n",
    "We have a list called numbers containing a sequence of numbers.\n",
    "We initialize two variables, total and count, to calculate the sum and count of numbers in the list.\n",
    "The for loop iterates through each element num in the numbers list, adding the value to the total and incrementing the count.\n",
    "Finally, we calculate the average by dividing the total by the count and print it"
   ]
  },
  {
   "cell_type": "code",
   "execution_count": 11,
   "id": "3d518cae-63ae-4e73-8e03-de31f3dace24",
   "metadata": {},
   "outputs": [
    {
     "name": "stdout",
     "output_type": "stream",
     "text": [
      "0 1 1 2 3 5 8 13 21 34 "
     ]
    }
   ],
   "source": [
    "# 10. Develop a program that prints the first `n` Fibonacci numbers using a `for` loop.\n",
    "\n",
    "\n",
    "# Input value for n\n",
    "n = 10\n",
    "\n",
    "# Initialize variables for the first two Fibonacci numbers\n",
    "fib_a, fib_b = 0, 1\n",
    "\n",
    "# Using a for loop to print the first n Fibonacci numbers\n",
    "for _ in range(n):\n",
    "    print(fib_a, end=\" \")\n",
    "    fib_a, fib_b = fib_b, fib_a + fib_b\n"
   ]
  },
  {
   "cell_type": "markdown",
   "id": "ab139d40-1aac-4bba-8536-1e5da3f9e350",
   "metadata": {},
   "source": [
    "Explanation:\n",
    "\n",
    "We input a value n for which we want to print the first n Fibonacci numbers.\n",
    "We initialize two variables, fib_a and fib_b, to represent the first two Fibonacci numbers (0 and 1).\n",
    "The for loop iterates n times, printing the value of fib_a in each iteration, and then updating fib_a and fib_b to calculate the next Fibonacci number.\n"
   ]
  },
  {
   "cell_type": "code",
   "execution_count": 12,
   "id": "86ac02b3-ea87-4872-b709-eada4dbafecf",
   "metadata": {},
   "outputs": [
    {
     "name": "stdout",
     "output_type": "stream",
     "text": [
      "List contains duplicates.\n"
     ]
    }
   ],
   "source": [
    "# 11. Write a program to check if a given list contains any duplicates using a `for` loop.\n",
    "\n",
    "\n",
    "# Input list\n",
    "my_list = [1, 2, 3, 4, 4, 5]\n",
    "\n",
    "# Initialize a flag to track duplicates\n",
    "has_duplicates = False\n",
    "\n",
    "# Using a for loop to check for duplicates\n",
    "for i in range(len(my_list)):\n",
    "    for j in range(i + 1, len(my_list)):\n",
    "        if my_list[i] == my_list[j]:\n",
    "            has_duplicates = True\n",
    "            break\n",
    "\n",
    "if has_duplicates:\n",
    "    print(\"List contains duplicates.\")\n",
    "else:\n",
    "    print(\"List does not contain duplicates.\")\n"
   ]
  },
  {
   "cell_type": "markdown",
   "id": "c1e21016-22e6-40fc-9c45-5692de2f1206",
   "metadata": {},
   "source": [
    "Explanation:\n",
    "\n",
    "We have an input list my_list.\n",
    "We initialize a boolean variable has_duplicates to False to track whether duplicates are found.\n",
    "The nested for loop iterates through each pair of elements in the list and checks if any pair is equal. If a duplicate is found, has_duplicates is set to True."
   ]
  },
  {
   "cell_type": "code",
   "execution_count": 13,
   "id": "1d98591b-cc1d-432b-8387-1d1faa055ab3",
   "metadata": {},
   "outputs": [
    {
     "name": "stdout",
     "output_type": "stream",
     "text": [
      "11\n",
      "13\n",
      "17\n",
      "19\n",
      "23\n",
      "29\n",
      "31\n",
      "37\n",
      "41\n",
      "43\n",
      "47\n"
     ]
    }
   ],
   "source": [
    "# 12. Create a program that prints the prime numbers in a given range using a `for` loop.\n",
    "\n",
    "\n",
    "# Input range\n",
    "start = 10\n",
    "end = 50\n",
    "\n",
    "# Using a for loop to print prime numbers in the range\n",
    "for num in range(start, end + 1):\n",
    "    if num > 1:\n",
    "        for i in range(2, int(num ** 0.5) + 1):\n",
    "            if (num % i) == 0:\n",
    "                break\n",
    "        else:\n",
    "            print(num)\n"
   ]
  },
  {
   "cell_type": "markdown",
   "id": "57a980a3-5405-4c3d-86d1-f48fe94cb758",
   "metadata": {},
   "source": [
    "Explanation:\n",
    "\n",
    "We input a range defined by start and end.\n",
    "The for loop iterates through each number in the range.\n",
    "For each number greater than 1, it uses another for loop to check if it is prime. If a number is divisible by any number from 2 to the square root of the number, it's not prime. Otherwise, it's prime."
   ]
  },
  {
   "cell_type": "code",
   "execution_count": 14,
   "id": "1e2f0de3-76b5-466e-b670-5c8906ecab44",
   "metadata": {},
   "outputs": [
    {
     "name": "stdout",
     "output_type": "stream",
     "text": [
      "Number of vowels: 3\n"
     ]
    }
   ],
   "source": [
    "# 13. Develop a program that counts the number of vowels in a string using a `for` loop.\n",
    "\n",
    "\n",
    "# Input string\n",
    "input_string = \"Hello, World!\"\n",
    "\n",
    "# Initialize a variable to count vowels\n",
    "vowel_count = 0\n",
    "\n",
    "# Using a for loop to count vowels\n",
    "for char in input_string:\n",
    "    char_lower = char.lower()  # Convert character to lowercase for case-insensitive check\n",
    "    if char_lower in \"aeiou\":\n",
    "        vowel_count += 1\n",
    "\n",
    "# Print the vowel count\n",
    "print(\"Number of vowels:\", vowel_count)\n"
   ]
  },
  {
   "cell_type": "markdown",
   "id": "23a0f5c8-4f17-4f32-9fef-e5fade45d268",
   "metadata": {},
   "source": [
    "Explanation:\n",
    "\n",
    "We have an input string input_string.\n",
    "We initialize a variable vowel_count to count the vowels.\n",
    "The for loop iterates through each character in the string, converts it to lowercase for case-insensitive checking, and checks if it is a vowel (a, e, i, o, or u). If it is, vowel_count is incremented."
   ]
  },
  {
   "cell_type": "code",
   "execution_count": 15,
   "id": "d27572f0-fc0f-4f68-af5b-ffb42ab621c1",
   "metadata": {},
   "outputs": [
    {
     "name": "stdout",
     "output_type": "stream",
     "text": [
      "Maximum Element: 12\n"
     ]
    }
   ],
   "source": [
    "# 14. Write a program to find the maximum element in a 2D list using a nested `for` loop.\n",
    "\n",
    "\n",
    "# Input 2D list\n",
    "matrix = [\n",
    "    [5, 12, 3],\n",
    "    [8, 9, 10],\n",
    "    [2, 7, 6]\n",
    "]\n",
    "\n",
    "# Initialize a variable to store the maximum element\n",
    "max_element = matrix[0][0]\n",
    "\n",
    "# Using nested for loops to find the maximum element\n",
    "for row in matrix:\n",
    "    for element in row:\n",
    "        if element > max_element:\n",
    "            max_element = element\n",
    "\n",
    "# Print the maximum element\n",
    "print(\"Maximum Element:\", max_element)\n"
   ]
  },
  {
   "cell_type": "markdown",
   "id": "d2efc45d-9e70-4824-bd33-0902112f453e",
   "metadata": {},
   "source": [
    "Explanation:\n",
    "\n",
    "We have an input 2D list matrix.\n",
    "We initialize a variable max_element with the value of the first element in the matrix (matrix[0][0]).\n",
    "The nested for loops iterate through each element in the matrix and update max_element if a larger element is found.\n"
   ]
  },
  {
   "cell_type": "code",
   "execution_count": 16,
   "id": "dba9ec76-4729-46bc-8e5c-938e0de61430",
   "metadata": {},
   "outputs": [
    {
     "name": "stdout",
     "output_type": "stream",
     "text": [
      "List after removing 2 : [1, 3, 4, 5]\n"
     ]
    }
   ],
   "source": [
    "# 15. Create a program that removes all occurrences of a specific element from a list using a `for` loop.\n",
    "\n",
    "\n",
    "# Input list\n",
    "my_list = [1, 2, 3, 4, 2, 5, 2]\n",
    "\n",
    "# Element to remove\n",
    "element_to_remove = 2\n",
    "\n",
    "# Using a for loop to remove all occurrences of the element\n",
    "my_list_copy = my_list[:]  # Create a copy to avoid modifying the original list\n",
    "for item in my_list_copy:\n",
    "    if item == element_to_remove:\n",
    "        my_list.remove(item)\n",
    "\n",
    "# Print the modified list\n",
    "print(\"List after removing\", element_to_remove, \":\", my_list)\n"
   ]
  },
  {
   "cell_type": "markdown",
   "id": "ff2ba941-fe60-415f-847e-6ac46ea0a62c",
   "metadata": {},
   "source": [
    "Explanation:\n",
    "\n",
    "We have an input list my_list.\n",
    "We specify the element_to_remove.\n",
    "We create a copy of my_list called my_list_copy to avoid modifying the original list while iterating.\n",
    "The for loop iterates through my_list_copy and removes all occurrences of element_to_remove from the original list."
   ]
  },
  {
   "cell_type": "code",
   "execution_count": 17,
   "id": "65529200-b5f7-452d-90b0-d08c83597e24",
   "metadata": {},
   "outputs": [
    {
     "name": "stdout",
     "output_type": "stream",
     "text": [
      "1 x 1 = 1\t1 x 2 = 2\t1 x 3 = 3\t1 x 4 = 4\t1 x 5 = 5\t1 x 6 = 6\t1 x 7 = 7\t1 x 8 = 8\t1 x 9 = 9\t1 x 10 = 10\t\n",
      "2 x 1 = 2\t2 x 2 = 4\t2 x 3 = 6\t2 x 4 = 8\t2 x 5 = 10\t2 x 6 = 12\t2 x 7 = 14\t2 x 8 = 16\t2 x 9 = 18\t2 x 10 = 20\t\n",
      "3 x 1 = 3\t3 x 2 = 6\t3 x 3 = 9\t3 x 4 = 12\t3 x 5 = 15\t3 x 6 = 18\t3 x 7 = 21\t3 x 8 = 24\t3 x 9 = 27\t3 x 10 = 30\t\n",
      "4 x 1 = 4\t4 x 2 = 8\t4 x 3 = 12\t4 x 4 = 16\t4 x 5 = 20\t4 x 6 = 24\t4 x 7 = 28\t4 x 8 = 32\t4 x 9 = 36\t4 x 10 = 40\t\n",
      "5 x 1 = 5\t5 x 2 = 10\t5 x 3 = 15\t5 x 4 = 20\t5 x 5 = 25\t5 x 6 = 30\t5 x 7 = 35\t5 x 8 = 40\t5 x 9 = 45\t5 x 10 = 50\t\n"
     ]
    }
   ],
   "source": [
    "# 16. Develop a program that generates a multiplication table for numbers from 1 to 5 using a nested `for` loop.\n",
    "\n",
    "\n",
    "# Using nested for loops to generate a multiplication table\n",
    "for i in range(1, 6):\n",
    "    for j in range(1, 11):\n",
    "        result = i * j\n",
    "        print(f\"{i} x {j} = {result}\", end=\"\\t\")\n",
    "    print()  # Move to the next row\n"
   ]
  },
  {
   "cell_type": "markdown",
   "id": "d1346c0e-fd7b-4562-a40c-cda37383bb9f",
   "metadata": {},
   "source": [
    "Explanation:\n",
    "\n",
    "The outer for loop iterates through numbers from 1 to 5.\n",
    "The inner for loop iterates through numbers from 1 to 10 within each iteration of the outer loop to generate the multiplication table for that number.\n"
   ]
  },
  {
   "cell_type": "code",
   "execution_count": 18,
   "id": "48291424-0c16-438f-a89d-6b750ff02419",
   "metadata": {},
   "outputs": [
    {
     "name": "stdout",
     "output_type": "stream",
     "text": [
      "Celsius Temperatures: [0.0, 20.0, 35.0, 40.0, 100.0]\n"
     ]
    }
   ],
   "source": [
    "# 17. Write a program that converts a list of Fahrenheit temperatures to Celsius using a `for` loop.\n",
    "\n",
    "\n",
    "# Input list of Fahrenheit temperatures\n",
    "fahrenheit_temperatures = [32, 68, 95, 104, 212]\n",
    "\n",
    "# Initialize a list for Celsius temperatures\n",
    "celsius_temperatures = []\n",
    "\n",
    "# Using a for loop to convert Fahrenheit to Celsius\n",
    "for fahrenheit in fahrenheit_temperatures:\n",
    "    celsius = (fahrenheit - 32) * 5/9\n",
    "    celsius_temperatures.append(celsius)\n",
    "\n",
    "# Print the Celsius temperatures\n",
    "print(\"Celsius Temperatures:\", celsius_temperatures)\n"
   ]
  },
  {
   "cell_type": "markdown",
   "id": "ea74e4b9-56c5-4c33-af7f-4e34a152c648",
   "metadata": {},
   "source": [
    "Explanation:\n",
    "\n",
    "We have an input list fahrenheit_temperatures containing temperatures in Fahrenheit.\n",
    "We initialize an empty list celsius_temperatures to store the converted temperatures.\n",
    "The for loop iterates through each temperature in Fahrenheit, converts it to Celsius using the conversion formula, and appends the result to celsius_temperatures."
   ]
  },
  {
   "cell_type": "code",
   "execution_count": 19,
   "id": "e9ee1743-4407-4042-a16b-0dd9f9414dda",
   "metadata": {},
   "outputs": [
    {
     "name": "stdout",
     "output_type": "stream",
     "text": [
      "Common Elements: [3, 4, 5]\n"
     ]
    }
   ],
   "source": [
    "# 18. Create a program to print the common elements from two lists using a `for` loop.\n",
    "\n",
    "\n",
    "# Input lists\n",
    "list1 = [1, 2, 3, 4, 5]\n",
    "list2 = [3, 4, 5, 6, 7]\n",
    "\n",
    "# Initialize a list for common elements\n",
    "common_elements = []\n",
    "\n",
    "# Using a for loop to find common elements\n",
    "for item1 in list1:\n",
    "    for item2 in list2:\n",
    "        if item1 == item2:\n",
    "            common_elements.append(item1)\n",
    "\n",
    "# Print the common elements\n",
    "print(\"Common Elements:\", common_elements)\n"
   ]
  },
  {
   "cell_type": "markdown",
   "id": "27458b32-d455-448a-9bbc-298511e3bfa5",
   "metadata": {},
   "source": [
    "Explanation:\n",
    "\n",
    "We have two input lists, list1 and list2.\n",
    "We initialize an empty list common_elements to store the common elements.\n",
    "The nested for loops compare each element in list1 with each element in list2 and append the common elements to common_elements."
   ]
  },
  {
   "cell_type": "code",
   "execution_count": 20,
   "id": "5118ea8c-bae6-4052-92b4-6624265a7085",
   "metadata": {},
   "outputs": [
    {
     "name": "stdout",
     "output_type": "stream",
     "text": [
      "*\n",
      "**\n",
      "***\n",
      "****\n",
      "*****\n"
     ]
    }
   ],
   "source": [
    "# 19. Develop a program that prints the pattern of right-angled triangles using a `for` loop. Use ‘*’ to draw the pattern\n",
    "\n",
    "\n",
    "\n",
    "# Input number of rows for the pattern\n",
    "n = 5\n",
    "\n",
    "# Using a for loop to print the pattern\n",
    "for i in range(1, n + 1):\n",
    "    print(\"*\" * i)\n"
   ]
  },
  {
   "cell_type": "markdown",
   "id": "c55ef326-64bc-4cc5-bbe0-56389eba2b0b",
   "metadata": {},
   "source": [
    "Explanation:\n",
    "\n",
    "We input the number of rows n for the pattern.\n",
    "The for loop iterates from 1 to n, and in each iteration, it prints '*' repeated i times, creating a right-angled triangle pattern"
   ]
  },
  {
   "cell_type": "code",
   "execution_count": 21,
   "id": "bf868ba9-8036-439c-81d8-7f7c419c481e",
   "metadata": {},
   "outputs": [
    {
     "name": "stdout",
     "output_type": "stream",
     "text": [
      "GCD of 48 and 60 is 12\n"
     ]
    }
   ],
   "source": [
    "# 20. Write a program to find the greatest common divisor (GCD) of two numbers using a `for` loop.\n",
    "\n",
    "\n",
    "# Input two numbers\n",
    "num1 = 48\n",
    "num2 = 60\n",
    "\n",
    "# Find the minimum of the two numbers\n",
    "min_num = min(num1, num2)\n",
    "\n",
    "# Initialize a variable for the GCD\n",
    "gcd = 1\n",
    "\n",
    "# Using a for loop to find the GCD\n",
    "for i in range(1, min_num + 1):\n",
    "    if num1 % i == 0 and num2 % i == 0:\n",
    "        gcd = i\n",
    "\n",
    "# Print the GCD\n",
    "print(\"GCD of\", num1, \"and\", num2, \"is\", gcd)\n"
   ]
  },
  {
   "cell_type": "markdown",
   "id": "4639d7e3-c04d-4850-b056-a68ab58dd714",
   "metadata": {},
   "source": [
    "Explanation:\n",
    "\n",
    "We input two numbers, num1 and num2.\n",
    "We find the minimum of the two numbers to limit the range of the for loop.\n",
    "We initialize a variable gcd to 1.\n",
    "The for loop iterates through numbers from 1 to the minimum of the two numbers and checks if both num1 and num2 are divisible by the current number. If they are, it updates the gcd with the current number."
   ]
  },
  {
   "cell_type": "code",
   "execution_count": 22,
   "id": "f7380944-b0bf-4ac7-91da-c65e4ab42075",
   "metadata": {},
   "outputs": [
    {
     "name": "stdout",
     "output_type": "stream",
     "text": [
      "Sum of Digits: [6, 9, 30, 3]\n"
     ]
    }
   ],
   "source": [
    "# 21. Create a program that calculates the sum of the digits of numbers in a list using a list comprehension.\n",
    "\n",
    "\n",
    "# Input list of numbers\n",
    "numbers = [123, 45, 6789, 12]\n",
    "\n",
    "# Using list comprehension to calculate the sum of digits for each number\n",
    "sum_of_digits = [sum(int(digit) for digit in str(num)) for num in numbers]\n",
    "\n",
    "# Print the sum of digits for each number\n",
    "print(\"Sum of Digits:\", sum_of_digits)\n"
   ]
  },
  {
   "cell_type": "markdown",
   "id": "785434ce-776e-4596-9690-b21019b3755b",
   "metadata": {},
   "source": [
    "EXPLANATION:-\n",
    "\n",
    "We start with an input list numbers that contains integers.\n",
    "List comprehension is used to iterate through each number in the numbers list.\n",
    "For each number, we convert it to a string to easily access its digits.\n",
    "We then convert each digit back to an integer and calculate the sum of these digits.\n",
    "The result is a new list sum_of_digits containing the sum of digits for each number in the original list."
   ]
  },
  {
   "cell_type": "code",
   "execution_count": 23,
   "id": "d3dc10e1-4404-4f97-8a04-1c4ea8bfc63f",
   "metadata": {},
   "outputs": [
    {
     "name": "stdout",
     "output_type": "stream",
     "text": [
      "Prime Factors: [2, 7]\n"
     ]
    }
   ],
   "source": [
    "# 22. Write a program to find the prime factors of a given number using a `for` loop and list comprehension.\n",
    "\n",
    "\n",
    "# Input number to find prime factors\n",
    "num = 56\n",
    "\n",
    "# Initialize a list for prime factors using list comprehension\n",
    "prime_factors = [factor for factor in range(2, num + 1) if num % factor == 0 and all(factor % i != 0 for i in range(2, factor))]\n",
    "\n",
    "# Print the prime factors\n",
    "print(\"Prime Factors:\", prime_factors)\n"
   ]
  },
  {
   "cell_type": "markdown",
   "id": "1f6d38e1-044e-4d88-a0f4-0bc92b6d884e",
   "metadata": {},
   "source": [
    "EXPLANATION:-\n",
    "\n",
    "We input a number num for which we want to find prime factors.\n",
    "List comprehension is used to iterate through numbers from 2 to num, representing potential factors.\n",
    "Within the list comprehension, we check if num is divisible by the current number (num % factor == 0).\n",
    "We also check whether the current number is prime using a nested for loop and the all() function.\n",
    "If both conditions are met, the number is considered a prime factor and included in the prime_factors list."
   ]
  },
  {
   "cell_type": "code",
   "execution_count": 24,
   "id": "76988358-c12a-4418-8a07-3009ba38f0e5",
   "metadata": {},
   "outputs": [
    {
     "name": "stdout",
     "output_type": "stream",
     "text": [
      "Unique Elements: [1, 2, 3, 4, 5]\n"
     ]
    }
   ],
   "source": [
    "# 23. Develop a program that extracts unique elements from a list and stores them in a new list using a list comprehension.\n",
    "\n",
    "\n",
    "# Input list with duplicate elements\n",
    "my_list = [1, 2, 2, 3, 4, 4, 5]\n",
    "\n",
    "# Using list comprehension to extract unique elements\n",
    "unique_elements = [element for index, element in enumerate(my_list) if element not in my_list[:index]]\n",
    "\n",
    "# Print unique elements\n",
    "print(\"Unique Elements:\", unique_elements)\n",
    "\n"
   ]
  },
  {
   "cell_type": "markdown",
   "id": "6c8a30d5-1be6-4015-ac66-cd0c887d2071",
   "metadata": {},
   "source": [
    "EXPLANATION:-\n",
    "\n",
    "We begin with an input list my_list that may contain duplicate elements.\n",
    "List comprehension is used to iterate through elements in my_list.\n",
    "For each element, we check if it's not present in the part of the list that comes before it (using slicing my_list[:index]).\n",
    "If the element is not found earlier in the list, it's considered unique and included in the unique_elements list.\n"
   ]
  },
  {
   "cell_type": "code",
   "execution_count": 25,
   "id": "72721674-7d62-4481-b6b7-d8e6ea6ee2f7",
   "metadata": {},
   "outputs": [
    {
     "name": "stdout",
     "output_type": "stream",
     "text": [
      "Palindromic Numbers: [1, 2, 3, 4, 5, 6, 7, 8, 9, 11, 22, 33, 44, 55, 66, 77, 88, 99]\n"
     ]
    }
   ],
   "source": [
    "# 24. Create a program that generates a list of all palindromic numbers up to a specified limit using a list comprehension.\n",
    "\n",
    "\n",
    "# Input limit for palindromic numbers\n",
    "limit = 100\n",
    "\n",
    "# Using list comprehension to generate palindromic numbers\n",
    "palindromic_numbers = [num for num in range(1, limit + 1) if str(num) == str(num)[::-1]]\n",
    "\n",
    "# Print palindromic numbers\n",
    "print(\"Palindromic Numbers:\", palindromic_numbers)\n"
   ]
  },
  {
   "cell_type": "markdown",
   "id": "6c706c66-cae0-4a37-9db5-5ef2b0c49edc",
   "metadata": {},
   "source": [
    "EXPLANATION:-\n",
    "\n",
    "We input a limit limit up to which we want to generate palindromic numbers.\n",
    "List comprehension is used to iterate through numbers from 1 to limit.\n",
    "For each number, we convert it to a string and check if it's equal to its reverse (using str(num) == str(num)[::-1]).\n",
    "If the number is equal to its reverse, it's considered a palindromic number and included in the palindromic_numbers list."
   ]
  },
  {
   "cell_type": "code",
   "execution_count": 26,
   "id": "8a264597-a90e-4534-81a3-480abab4c726",
   "metadata": {},
   "outputs": [
    {
     "name": "stdout",
     "output_type": "stream",
     "text": [
      "Flattened List: [1, 2, 3, 4, 5, 6]\n"
     ]
    }
   ],
   "source": [
    "# 25. Write a program to flatten a nested list using list comprehension.\n",
    "\n",
    "\n",
    "# Input nested list\n",
    "nested_list = [[1, 2], [3, 4], [5, 6]]\n",
    "\n",
    "# Using list comprehension to flatten the nested list\n",
    "flattened_list = [element for sublist in nested_list for element in sublist]\n",
    "\n",
    "# Print the flattened list\n",
    "print(\"Flattened List:\", flattened_list)\n"
   ]
  },
  {
   "cell_type": "markdown",
   "id": "cdca6e66-d7d1-4d24-8245-79f485531c6d",
   "metadata": {},
   "source": [
    "EXPLANATION:-\n",
    "\n",
    "We start with an input nested list nested_list.\n",
    "List comprehension is used to iterate through each sublist within nested_list.\n",
    "Within the inner iteration, we iterate through each element in the sublists.\n",
    "The result is a flattened list containing all elements from the original nested list."
   ]
  },
  {
   "cell_type": "code",
   "execution_count": 27,
   "id": "3001f996-a5d6-42ea-a095-11c943c7f334",
   "metadata": {},
   "outputs": [
    {
     "name": "stdout",
     "output_type": "stream",
     "text": [
      "Sum of Even Numbers: 20\n",
      "Sum of Odd Numbers: 25\n"
     ]
    }
   ],
   "source": [
    "# 26. Develop a program that computes the sum of even and odd numbers in a list separately using list comprehension.\n",
    "\n",
    "\n",
    "# Input list of numbers\n",
    "numbers = [1, 2, 3, 4, 5, 6, 7, 8, 9]\n",
    "\n",
    "# Using list comprehension to compute the sum of even and odd numbers separately\n",
    "sum_even = sum([num for num in numbers if num % 2 == 0])\n",
    "sum_odd = sum([num for num in numbers if num % 2 != 0])\n",
    "\n",
    "# Print the sums\n",
    "print(\"Sum of Even Numbers:\", sum_even)\n",
    "print(\"Sum of Odd Numbers:\", sum_odd)\n"
   ]
  },
  {
   "cell_type": "markdown",
   "id": "282b6167-8dd7-45d1-98e9-330a6cf8a727",
   "metadata": {},
   "source": [
    "EXPLANATION:-\n",
    "\n",
    "We have an input list numbers containing both even and odd numbers.\n",
    "Two separate list comprehensions are used to create two lists: one for even numbers and another for odd numbers.\n",
    "The sum() function is then used to calculate the sum of each list, resulting in sum_even and sum_odd."
   ]
  },
  {
   "cell_type": "code",
   "execution_count": 28,
   "id": "cc2e1b7f-2812-4958-bd2f-41308abf8f97",
   "metadata": {},
   "outputs": [
    {
     "name": "stdout",
     "output_type": "stream",
     "text": [
      "Squares of Odd Numbers: [1, 9, 25, 49, 81]\n"
     ]
    }
   ],
   "source": [
    "# 27. Create a program that generates a list of squares of odd numbers between 1 and 10 using list comprehension.\n",
    "\n",
    "\n",
    "\n",
    "# Using list comprehension to generate a list of squares of odd numbers\n",
    "squares_of_odd = [num ** 2 for num in range(1, 11) if num % 2 != 0]\n",
    "\n",
    "# Print the list of squares of odd numbers\n",
    "print(\"Squares of Odd Numbers:\", squares_of_odd)\n"
   ]
  },
  {
   "cell_type": "markdown",
   "id": "8094c757-ec16-4a8b-8049-129cd200360c",
   "metadata": {},
   "source": [
    "EXPLANATION:-\n",
    "\n",
    "List comprehension is used to iterate through numbers from 1 to 10.\n",
    "A condition (num % 2 != 0) filters out only the odd numbers.\n",
    "For each odd number, its square is calculated using num ** 2, and the result is included in the squares_of_odd list.\n"
   ]
  },
  {
   "cell_type": "code",
   "execution_count": 29,
   "id": "56eae3b4-6427-4a97-920c-222f33df5cf1",
   "metadata": {},
   "outputs": [
    {
     "name": "stdout",
     "output_type": "stream",
     "text": [
      "Dictionary: {'a': 1, 'b': 2, 'c': 3}\n"
     ]
    }
   ],
   "source": [
    "# 28. Write a program that combines two lists into a dictionary using list comprehension.\n",
    "\n",
    "\n",
    "# Input lists\n",
    "keys = ['a', 'b', 'c']\n",
    "values = [1, 2, 3]\n",
    "\n",
    "# Using list comprehension to create a dictionary\n",
    "my_dict = {key: value for key, value in zip(keys, values)}\n",
    "\n",
    "# Print the dictionary\n",
    "print(\"Dictionary:\", my_dict)\n"
   ]
  },
  {
   "cell_type": "markdown",
   "id": "64ec2110-7245-41bc-a419-e6f810b3f173",
   "metadata": {},
   "source": [
    "We have two input lists, keys and values.\n",
    "List comprehension, along with the zip() function, is used to iterate through pairs of elements from both lists.\n",
    "In each iteration, a key-value pair is created, resulting in a dictionary my_dict containing elements from both input lists."
   ]
  },
  {
   "cell_type": "code",
   "execution_count": 30,
   "id": "5767fe57-bbfa-4113-8609-b84b4f00006f",
   "metadata": {},
   "outputs": [
    {
     "name": "stdout",
     "output_type": "stream",
     "text": [
      "Vowels: ['e', 'o', 'o']\n"
     ]
    }
   ],
   "source": [
    "# 29. Develop a program that extracts the vowels from a string and stores them in a list using list comprehension.\n",
    "\n",
    "\n",
    "# Input string\n",
    "input_string = \"Hello, World!\"\n",
    "\n",
    "# Using list comprehension to extract vowels from the string\n",
    "vowels = [char for char in input_string if char.lower() in 'aeiou']\n",
    "\n",
    "# Print the list of vowels\n",
    "print(\"Vowels:\", vowels)\n"
   ]
  },
  {
   "cell_type": "markdown",
   "id": "14358376-b271-4b12-a87d-2229125c5808",
   "metadata": {},
   "source": [
    "EXPLANATION:-\n",
    "\n",
    "We start with an input string input_string.\n",
    "List comprehension is used to iterate through each character in the string.\n",
    "For each character, we check if it's a vowel (case-insensitive) by comparing it to the string 'aeiou'.\n",
    "If the character is a vowel, it's included in the vowels list."
   ]
  },
  {
   "cell_type": "code",
   "execution_count": 32,
   "id": "c55b11e9-c2a1-41d0-899b-649582879227",
   "metadata": {},
   "outputs": [
    {
     "name": "stdout",
     "output_type": "stream",
     "text": [
      "Numeric Strings: ['123', '456', '789', '']\n"
     ]
    }
   ],
   "source": [
    "# 30. Create a program that removes all non-numeric characters from a list of strings using list comprehension.\n",
    "\n",
    "\n",
    "# Input list of strings\n",
    "string_list = ['abc123', '456xyz', '789', 'abc']\n",
    "\n",
    "# Using list comprehension to remove non-numeric characters\n",
    "numeric_strings = [''.join(char for char in string if char.isdigit()) for string in string_list]\n",
    "\n",
    "# Print the list of numeric strings\n",
    "print(\"Numeric Strings:\", numeric_strings)\n"
   ]
  },
  {
   "cell_type": "markdown",
   "id": "69b4589a-c801-4a84-a12e-409c1e0d95ee",
   "metadata": {},
   "source": [
    "EXPLANATION:-\n",
    "\n",
    "We begin with an input list of strings, string_list, which may contain alphanumeric characters.\n",
    "List comprehension is used to iterate through each string in the list.\n",
    "For each string, we use the isdigit() method to check if each character is a digit.\n",
    "Using ''.join(...), we concatenate the digits found in each string to form a numeric string.\n",
    "The result is a list numeric_strings containing only the numeric parts of the original strings."
   ]
  },
  {
   "cell_type": "code",
   "execution_count": 35,
   "id": "03cfa8bb-8bac-4894-98b6-a4ff2e2385ce",
   "metadata": {},
   "outputs": [
    {
     "name": "stdout",
     "output_type": "stream",
     "text": [
      "Prime Numbers: [2, 3, 5, 7, 11, 13, 17, 19, 23, 29, 31, 37, 41, 43, 47, 53, 59, 61, 67, 71, 73, 79, 83, 89, 97]\n"
     ]
    }
   ],
   "source": [
    "# 31. Write a program to generate a list of prime numbers using the Sieve of Eratosthenes algorithm and list comprehension.\n",
    "\n",
    "\n",
    "# Input limit for prime numbers\n",
    "limit = 100\n",
    "\n",
    "# Initialize a list to represent the sieve\n",
    "sieve = [True] * (limit + 1)\n",
    "sieve[0] = sieve[1] = False\n",
    "\n",
    "\n",
    "\"\"\" We start by specifying the limit up to which we want to find prime numbers.\n",
    "    We initialize a list called sieve with a length of limit + 1. \n",
    "    This list will be used to mark numbers as prime (True) or non-prime (False).\n",
    "    We initially set all values to True, assuming that all numbers are prime. \n",
    "    We explicitly set sieve[0] and sieve[1] to False because 0 and 1 are not prime.\"\"\"\n",
    "\n",
    "\n",
    "# Implement the Sieve of Eratosthenes algorithm\n",
    "for current in range(2, int(limit**0.5) + 1):\n",
    "    if sieve[current]:\n",
    "        for multiple in range(current**2, limit + 1, current):\n",
    "            sieve[multiple] = False\n",
    "\n",
    "            \n",
    "\"\"\" We use a for loop to iterate through numbers from 2 to the square root of the limit. \n",
    "    This loop represents the Sieve of Eratosthenes algorithm.\n",
    "    Inside the loop, we check if the current number (current) is marked as prime (sieve[current] is True).\n",
    "    If the current number is marked as prime, we iterate through its multiples starting from current^2 up to limit.\n",
    "    For each multiple, we mark it as non-prime (False) because it is divisible by current.\"\"\"\n",
    "\n",
    "\n",
    "\n",
    "# Generate a list of prime numbers\n",
    "prime_numbers = []\n",
    "for num, is_prime in enumerate(sieve):\n",
    "    if is_prime:\n",
    "        prime_numbers.append(num)\n",
    " \n",
    "\n",
    "\"\"\" After implementing the Sieve of Eratosthenes, we initialize an empty list called prime_numbers to store the prime numbers found.\n",
    "    We use another for loop to iterate through the sieve list, where num represents the number itself and is_prime represents whether the number is prime (from the sieve).\n",
    "    If is_prime is True, indicating that the number is prime, we append num to the prime_numbers list.\"\"\"\n",
    "\n",
    "\n",
    "# Print the list of prime numbers\n",
    "print(\"Prime Numbers:\", prime_numbers)\n",
    "\n",
    "# Finally, we print the list of prime numbers that have been found using the Sieve of Eratosthenes algorithm."
   ]
  },
  {
   "cell_type": "code",
   "execution_count": 36,
   "id": "5606501b-2615-461b-9667-4bf304b9faec",
   "metadata": {},
   "outputs": [
    {
     "name": "stdout",
     "output_type": "stream",
     "text": [
      "Pythagorean Triplets: [(3, 4, 5), (5, 12, 13), (6, 8, 10), (8, 15, 17), (9, 12, 15), (12, 16, 20)]\n"
     ]
    }
   ],
   "source": [
    "# 32. Create a program that generates a list of all Pythagorean triplets up to a specified limit using list comprehension.\n",
    "\n",
    "\n",
    "\n",
    "# Input limit for Pythagorean triplets\n",
    "limit = 20\n",
    "\n",
    "# Initialize a list to store Pythagorean triplets\n",
    "pythagorean_triplets = []\n",
    "\n",
    "\n",
    "\"\"\" We specify the limit up to which we want to generate Pythagorean triplets.\n",
    "    We initialize an empty list called pythagorean_triplets to store the Pythagorean triplets that we will find.\"\"\"\n",
    "\n",
    "\n",
    "# Generate Pythagorean triplets using loops\n",
    "for a in range(1, limit + 1):\n",
    "    for b in range(a, limit + 1):\n",
    "        for c in range(b, limit + 1):\n",
    "            if a**2 + b**2 == c**2:\n",
    "                pythagorean_triplets.append((a, b, c))\n",
    "\n",
    "                \n",
    "\"\"\" We use nested for loops to generate Pythagorean triplets. Each loop represents a variable (a, b, and c) in the Pythagorean triplet.\n",
    "    The outermost loop iterates through possible values of a from 1 to the limit.\n",
    "    The middle loop iterates through possible values of b from the current value of a to the limit.\n",
    "    The innermost loop iterates through possible values of c from the current value of b to the limit.\n",
    "    Inside the innermost loop, we check if the triplet (a, b, c) satisfies the Pythagorean theorem (a^2 + b^2 == c^2).\n",
    "    If the condition is met, we append the triplet (a, b, c) to the pythagorean_triplets list.\"\"\"\n",
    "\n",
    "\n",
    "# Print the list of Pythagorean triplets\n",
    "print(\"Pythagorean Triplets:\", pythagorean_triplets)\n",
    "\n",
    "\n",
    "# Finally, we print the list of Pythagorean triplets that have been generated within the specified limit.\n",
    "\n",
    "\n",
    "\n"
   ]
  },
  {
   "cell_type": "code",
   "execution_count": 37,
   "id": "5617ed74-f545-4d69-9c34-6696e0186d8c",
   "metadata": {},
   "outputs": [
    {
     "name": "stdout",
     "output_type": "stream",
     "text": [
      "Combinations: [(1, 'a'), (1, 'b'), (2, 'a'), (2, 'b'), (3, 'a'), (3, 'b')]\n"
     ]
    }
   ],
   "source": [
    "# 33. Develop a program that generates a list of all possible combinations of two lists using list comprehension.\n",
    "\n",
    "\n",
    "# Input lists\n",
    "list1 = [1, 2, 3]\n",
    "list2 = ['a', 'b']\n",
    "\n",
    "# Generate all possible combinations of elements from two lists using list comprehension\n",
    "combinations = [(x, y) for x in list1 for y in list2]\n",
    "\n",
    "# Print the list of combinations\n",
    "print(\"Combinations:\", combinations)\n"
   ]
  },
  {
   "cell_type": "markdown",
   "id": "05f6ee29-c16b-43af-962a-b4ef41a3d394",
   "metadata": {},
   "source": [
    "Explanation:\n",
    "\n",
    "We have two input lists, list1 and list2, with elements of different types.\n",
    "List comprehension is used to generate all possible combinations of elements from both lists. It iterates through elements from list1 and list2, creating pairs (x, y) for all combinations.\n",
    "The result is a list combinations containing all possible pairs of elements from the two input lists"
   ]
  },
  {
   "cell_type": "code",
   "execution_count": 38,
   "id": "e8ddc5c1-cea0-4fe0-8e32-6c468161c0bc",
   "metadata": {},
   "outputs": [
    {
     "name": "stdout",
     "output_type": "stream",
     "text": [
      "Mean: 18.1\n",
      "Median: 16.5\n",
      "Mode: [12]\n"
     ]
    }
   ],
   "source": [
    "# 34. Write a program that calculates the mean, median, and mode of a list of numbers using list comprehension.\n",
    "\n",
    "\n",
    "# Input list of numbers\n",
    "numbers = [12, 15, 18, 12, 15, 20, 22, 25, 30, 12]\n",
    "\n",
    "# Calculate mean using list comprehension\n",
    "mean = sum(numbers) / len(numbers)\n",
    "\n",
    "# Calculate median using list comprehension\n",
    "sorted_numbers = sorted(numbers)\n",
    "n = len(numbers)\n",
    "median = (sorted_numbers[n // 2] + sorted_numbers[(n - 1) // 2]) / 2\n",
    "\n",
    "# Calculate mode using list comprehension\n",
    "from collections import Counter\n",
    "count = Counter(numbers)\n",
    "mode = [num for num, freq in count.items() if freq == max(count.values())]\n",
    "\n",
    "# Print the mean, median, and mode\n",
    "print(\"Mean:\", mean)\n",
    "print(\"Median:\", median)\n",
    "print(\"Mode:\", mode)\n"
   ]
  },
  {
   "cell_type": "markdown",
   "id": "ab4744d7-ccef-458a-9021-73fd1efb2573",
   "metadata": {},
   "source": [
    "Explanation:\n",
    "\n",
    "We have an input list of numbers, numbers.\n",
    "Mean is calculated by summing all the numbers and dividing by the total count of numbers.\n",
    "Median is calculated by first sorting the list and then finding the middle value(s) depending on whether the count of numbers is even or odd.\n",
    "Mode is calculated using the Counter class from the collections module to count the frequency of each number. The numbers with the maximum frequency are considered the mode.\n",
    "The program prints the mean, median, and mode of the list of numbers."
   ]
  },
  {
   "cell_type": "code",
   "execution_count": 39,
   "id": "da855e21-8f2e-4f93-80d8-c4b48954625d",
   "metadata": {},
   "outputs": [
    {
     "name": "stdout",
     "output_type": "stream",
     "text": [
      "[1]\n",
      "[1, 1]\n",
      "[1, 2, 1]\n",
      "[1, 3, 3, 1]\n",
      "[1, 4, 6, 4, 1]\n"
     ]
    }
   ],
   "source": [
    "# 35. Create a program that generates Pascal's triangle up to a specified number of rows using list comprehension.\n",
    "\n",
    "\n",
    "# Input number of rows for Pascal's triangle\n",
    "num_rows = 5\n",
    "\n",
    "# Generate Pascal's triangle using list comprehension\n",
    "pascals_triangle = [[1] * (i + 1) for i in range(num_rows)]\n",
    "\n",
    "for i in range(2, num_rows):\n",
    "    for j in range(1, i):\n",
    "        pascals_triangle[i][j] = pascals_triangle[i - 1][j - 1] + pascals_triangle[i - 1][j]\n",
    "\n",
    "# Print Pascal's triangle\n",
    "for row in pascals_triangle:\n",
    "    print(row)\n"
   ]
  },
  {
   "cell_type": "markdown",
   "id": "60d48ee0-a798-4ad6-bee9-3e04014b6624",
   "metadata": {},
   "source": [
    "Explanation:\n",
    "\n",
    "We input the number of rows num_rows we want in Pascal's triangle.\n",
    "List comprehension is used to generate the initial structure of Pascal's triangle as a list of lists, with each inner list containing 1's.\n",
    "Nested loops are used to calculate the values inside the triangle. Each value is the sum of the two values directly above it.\n",
    "The program then prints Pascal's triangle row by row."
   ]
  },
  {
   "cell_type": "code",
   "execution_count": 41,
   "id": "40542989-faf3-4649-acbc-8a424db5cd55",
   "metadata": {},
   "outputs": [
    {
     "name": "stdout",
     "output_type": "stream",
     "text": [
      "Sum of Digits of Factorials: [1, 2, 6, 6, 3]\n"
     ]
    }
   ],
   "source": [
    "# 36. Develop a program that calculates the sum of the digits of a factorial of numbers from 1 to 5 using list comprehension\n",
    "\n",
    "import math  # Import the math module to use math.factorial\n",
    "\n",
    "# Input numbers for factorial calculation\n",
    "numbers = [1, 2, 3, 4, 5]\n",
    "\n",
    "# Calculate the sum of digits of factorials using list comprehension\n",
    "factorial_sums = [sum(int(digit) for digit in str(math.factorial(num))) for num in numbers]\n",
    "\n",
    "# Print the sum of digits for each factorial\n",
    "print(\"Sum of Digits of Factorials:\", factorial_sums)\n",
    "\n"
   ]
  },
  {
   "cell_type": "markdown",
   "id": "1caa7b91-ca31-4c25-8818-a71964317957",
   "metadata": {},
   "source": [
    "Explanation:\n",
    "\n",
    "We have an input list numbers containing numbers for which we want to calculate the sum of the digits of their factorials.\n",
    "List comprehension is used to iterate through each number in the numbers list.\n",
    "For each number, we calculate its factorial using math.factorial(num), convert the result to a string to extract its digits, and then sum those digits.\n",
    "The program prints the sum of digits for each factorial."
   ]
  },
  {
   "cell_type": "code",
   "execution_count": 42,
   "id": "2ac9920b-80b7-4aa7-8db5-25b963c62a56",
   "metadata": {},
   "outputs": [
    {
     "name": "stdout",
     "output_type": "stream",
     "text": [
      "Longest Word: sentence\n"
     ]
    }
   ],
   "source": [
    "# 37. Write a program that finds the longest word in a sentence using list comprehension.\n",
    "\n",
    "\n",
    "# Input sentence\n",
    "sentence = \"This is a sample sentence with some long words.\"\n",
    "\n",
    "# Split the sentence into words and find the longest word using list comprehension\n",
    "words = sentence.split()\n",
    "longest_word = max(words, key=lambda word: len(word))\n",
    "\n",
    "# Print the longest word\n",
    "print(\"Longest Word:\", longest_word)\n"
   ]
  },
  {
   "cell_type": "markdown",
   "id": "3a284676-b1a2-4722-ab50-80a662fea902",
   "metadata": {},
   "source": [
    "Explanation:\n",
    "\n",
    "We input a sentence, sentence, as a string.\n",
    "The sentence is split into words using the split() method, resulting in a list of words.\n",
    "List comprehension is used to find the longest word from the list of words. The max() function is used with a key function that calculates the length of each word.\n",
    "The program then prints the longest word in the sentence."
   ]
  },
  {
   "cell_type": "code",
   "execution_count": 43,
   "id": "609c75ab-75b8-4463-9d33-c8fc6813d6ec",
   "metadata": {},
   "outputs": [
    {
     "name": "stdout",
     "output_type": "stream",
     "text": [
      "Filtered Strings: []\n"
     ]
    }
   ],
   "source": [
    "# 38. Create a program that filters a list of strings to include only those with more than three vowels using list comprehension.\n",
    "\n",
    "\n",
    "# Input list of strings\n",
    "string_list = [\"hello\", \"world\", \"python\", \"programming\", \"example\", \"vowels\"]\n",
    "\n",
    "# Filter strings with more than three vowels using list comprehension\n",
    "filtered_strings = [string for string in string_list if sum(1 for char in string if char.lower() in 'aeiou') > 3]\n",
    "\n",
    "# Print the filtered list of strings\n",
    "print(\"Filtered Strings:\", filtered_strings)\n"
   ]
  },
  {
   "cell_type": "markdown",
   "id": "4c2dbf3d-d2c0-4cf7-9f4c-e6a9fd908adc",
   "metadata": {},
   "source": [
    "Explanation:\n",
    "\n",
    "We have an input list of strings, string_list.\n",
    "List comprehension is used to filter the strings in the list. For each string, we count the number of vowels (case-insensitive) using sum(1 for char in string if char.lower() in 'aeiou').\n",
    "If a string has more than three vowels, it is included in the filtered_strings list.\n",
    "The program then prints the filtered list of strings."
   ]
  },
  {
   "cell_type": "code",
   "execution_count": 44,
   "id": "f63c21e5-4b6e-4687-b835-d0643f7a2946",
   "metadata": {},
   "outputs": [
    {
     "name": "stdout",
     "output_type": "stream",
     "text": [
      "Sum of Digits: [1, 2, 3, 4, 5, 6, 7, 8, 9, 1, 2, 3, 4, 5, 6, 7, 8, 9, 10, 2, 3, 4, 5, 6, 7, 8, 9, 10, 11, 3, 4, 5, 6, 7, 8, 9, 10, 11, 12, 4, 5, 6, 7, 8, 9, 10, 11, 12, 13, 5, 6, 7, 8, 9, 10, 11, 12, 13, 14, 6, 7, 8, 9, 10, 11, 12, 13, 14, 15, 7, 8, 9, 10, 11, 12, 13, 14, 15, 16, 8, 9, 10, 11, 12, 13, 14, 15, 16, 17, 9, 10, 11, 12, 13, 14, 15, 16, 17, 18, 1, 2, 3, 4, 5, 6, 7, 8, 9, 10, 2, 3, 4, 5, 6, 7, 8, 9, 10, 11, 3, 4, 5, 6, 7, 8, 9, 10, 11, 12, 4, 5, 6, 7, 8, 9, 10, 11, 12, 13, 5, 6, 7, 8, 9, 10, 11, 12, 13, 14, 6, 7, 8, 9, 10, 11, 12, 13, 14, 15, 7, 8, 9, 10, 11, 12, 13, 14, 15, 16, 8, 9, 10, 11, 12, 13, 14, 15, 16, 17, 9, 10, 11, 12, 13, 14, 15, 16, 17, 18, 10, 11, 12, 13, 14, 15, 16, 17, 18, 19, 2, 3, 4, 5, 6, 7, 8, 9, 10, 11, 3, 4, 5, 6, 7, 8, 9, 10, 11, 12, 4, 5, 6, 7, 8, 9, 10, 11, 12, 13, 5, 6, 7, 8, 9, 10, 11, 12, 13, 14, 6, 7, 8, 9, 10, 11, 12, 13, 14, 15, 7, 8, 9, 10, 11, 12, 13, 14, 15, 16, 8, 9, 10, 11, 12, 13, 14, 15, 16, 17, 9, 10, 11, 12, 13, 14, 15, 16, 17, 18, 10, 11, 12, 13, 14, 15, 16, 17, 18, 19, 11, 12, 13, 14, 15, 16, 17, 18, 19, 20, 3, 4, 5, 6, 7, 8, 9, 10, 11, 12, 4, 5, 6, 7, 8, 9, 10, 11, 12, 13, 5, 6, 7, 8, 9, 10, 11, 12, 13, 14, 6, 7, 8, 9, 10, 11, 12, 13, 14, 15, 7, 8, 9, 10, 11, 12, 13, 14, 15, 16, 8, 9, 10, 11, 12, 13, 14, 15, 16, 17, 9, 10, 11, 12, 13, 14, 15, 16, 17, 18, 10, 11, 12, 13, 14, 15, 16, 17, 18, 19, 11, 12, 13, 14, 15, 16, 17, 18, 19, 20, 12, 13, 14, 15, 16, 17, 18, 19, 20, 21, 4, 5, 6, 7, 8, 9, 10, 11, 12, 13, 5, 6, 7, 8, 9, 10, 11, 12, 13, 14, 6, 7, 8, 9, 10, 11, 12, 13, 14, 15, 7, 8, 9, 10, 11, 12, 13, 14, 15, 16, 8, 9, 10, 11, 12, 13, 14, 15, 16, 17, 9, 10, 11, 12, 13, 14, 15, 16, 17, 18, 10, 11, 12, 13, 14, 15, 16, 17, 18, 19, 11, 12, 13, 14, 15, 16, 17, 18, 19, 20, 12, 13, 14, 15, 16, 17, 18, 19, 20, 21, 13, 14, 15, 16, 17, 18, 19, 20, 21, 22, 5, 6, 7, 8, 9, 10, 11, 12, 13, 14, 6, 7, 8, 9, 10, 11, 12, 13, 14, 15, 7, 8, 9, 10, 11, 12, 13, 14, 15, 16, 8, 9, 10, 11, 12, 13, 14, 15, 16, 17, 9, 10, 11, 12, 13, 14, 15, 16, 17, 18, 10, 11, 12, 13, 14, 15, 16, 17, 18, 19, 11, 12, 13, 14, 15, 16, 17, 18, 19, 20, 12, 13, 14, 15, 16, 17, 18, 19, 20, 21, 13, 14, 15, 16, 17, 18, 19, 20, 21, 22, 14, 15, 16, 17, 18, 19, 20, 21, 22, 23, 6, 7, 8, 9, 10, 11, 12, 13, 14, 15, 7, 8, 9, 10, 11, 12, 13, 14, 15, 16, 8, 9, 10, 11, 12, 13, 14, 15, 16, 17, 9, 10, 11, 12, 13, 14, 15, 16, 17, 18, 10, 11, 12, 13, 14, 15, 16, 17, 18, 19, 11, 12, 13, 14, 15, 16, 17, 18, 19, 20, 12, 13, 14, 15, 16, 17, 18, 19, 20, 21, 13, 14, 15, 16, 17, 18, 19, 20, 21, 22, 14, 15, 16, 17, 18, 19, 20, 21, 22, 23, 15, 16, 17, 18, 19, 20, 21, 22, 23, 24, 7, 8, 9, 10, 11, 12, 13, 14, 15, 16, 8, 9, 10, 11, 12, 13, 14, 15, 16, 17, 9, 10, 11, 12, 13, 14, 15, 16, 17, 18, 10, 11, 12, 13, 14, 15, 16, 17, 18, 19, 11, 12, 13, 14, 15, 16, 17, 18, 19, 20, 12, 13, 14, 15, 16, 17, 18, 19, 20, 21, 13, 14, 15, 16, 17, 18, 19, 20, 21, 22, 14, 15, 16, 17, 18, 19, 20, 21, 22, 23, 15, 16, 17, 18, 19, 20, 21, 22, 23, 24, 16, 17, 18, 19, 20, 21, 22, 23, 24, 25, 8, 9, 10, 11, 12, 13, 14, 15, 16, 17, 9, 10, 11, 12, 13, 14, 15, 16, 17, 18, 10, 11, 12, 13, 14, 15, 16, 17, 18, 19, 11, 12, 13, 14, 15, 16, 17, 18, 19, 20, 12, 13, 14, 15, 16, 17, 18, 19, 20, 21, 13, 14, 15, 16, 17, 18, 19, 20, 21, 22, 14, 15, 16, 17, 18, 19, 20, 21, 22, 23, 15, 16, 17, 18, 19, 20, 21, 22, 23, 24, 16, 17, 18, 19, 20, 21, 22, 23, 24, 25, 17, 18, 19, 20, 21, 22, 23, 24, 25, 26, 9, 10, 11, 12, 13, 14, 15, 16, 17, 18, 10, 11, 12, 13, 14, 15, 16, 17, 18, 19, 11, 12, 13, 14, 15, 16, 17, 18, 19, 20, 12, 13, 14, 15, 16, 17, 18, 19, 20, 21, 13, 14, 15, 16, 17, 18, 19, 20, 21, 22, 14, 15, 16, 17, 18, 19, 20, 21, 22, 23, 15, 16, 17, 18, 19, 20, 21, 22, 23, 24, 16, 17, 18, 19, 20, 21, 22, 23, 24, 25, 17, 18, 19, 20, 21, 22, 23, 24, 25, 26, 18, 19, 20, 21, 22, 23, 24, 25, 26, 27, 1]\n"
     ]
    }
   ],
   "source": [
    "# 39. Develop a program that calculates the sum of the digits of numbers from 1 to 1000 using list comprehension.\n",
    "\n",
    "\n",
    "# Calculate the sum of digits of numbers from 1 to 1000 using list comprehension\n",
    "digit_sums = [sum(int(digit) for digit in str(num)) for num in range(1, 1001)]\n",
    "\n",
    "# Print the sum of digits for each number\n",
    "print(\"Sum of Digits:\", digit_sums)\n"
   ]
  },
  {
   "cell_type": "markdown",
   "id": "4a01231b-62a1-4abb-8e2f-807286ec4208",
   "metadata": {},
   "source": [
    "Explanation:\n",
    "\n",
    "List comprehension is used to iterate through numbers from 1 to 1000 (range(1, 1001)).\n",
    "For each number, we convert it to a string to extract its digits, convert each digit back to an integer, and calculate the sum of those digits.\n",
    "The program prints the sum of digits for each number in the range."
   ]
  },
  {
   "cell_type": "code",
   "execution_count": 45,
   "id": "03bea6d8-d2fc-475f-914c-d927283d71cc",
   "metadata": {},
   "outputs": [
    {
     "name": "stdout",
     "output_type": "stream",
     "text": [
      "Prime Palindromic Numbers: [2, 3, 5, 7, 11, 101, 131, 151, 181, 191, 313, 353, 373, 383, 727, 757, 787, 797, 919, 929]\n"
     ]
    }
   ],
   "source": [
    "# 40. Write a program that generates a list of prime palindromic numbers using list comprehension.\n",
    "\n",
    "# Generate prime palindromic numbers using list comprehension\n",
    "prime_palindromic_numbers = [num for num in range(2, 1000) if all(num % i != 0 for i in range(2, int(num**0.5) + 1))\n",
    "                            and str(num) == str(num)[::-1]]\n",
    "\n",
    "# Print the prime palindromic numbers\n",
    "print(\"Prime Palindromic Numbers:\", prime_palindromic_numbers)\n"
   ]
  },
  {
   "cell_type": "markdown",
   "id": "4b7621d7-7151-456a-bbe2-ef82e463f851",
   "metadata": {},
   "source": [
    "Explanation:\n",
    "\n",
    "List comprehension is used to generate prime palindromic numbers in the range from 2 to 999.\n",
    "For each number in this range, we check if it's prime and if it's a palindrome (equal to its reverse).\n",
    "The all() function is used to check if the number is prime by testing that it's not divisible by any integer from 2 to its square root.\n",
    "We also compare the string representation of the number with its reverse to check for palindromes.\n",
    "The program prints the list of prime palindromic numbers in the specified range.\n",
    "\n",
    "\n",
    "\n"
   ]
  },
  {
   "cell_type": "code",
   "execution_count": null,
   "id": "bfd96d3e-5ecc-4010-a77a-1ae72d414a8c",
   "metadata": {},
   "outputs": [],
   "source": []
  }
 ],
 "metadata": {
  "kernelspec": {
   "display_name": "Python 3 (ipykernel)",
   "language": "python",
   "name": "python3"
  },
  "language_info": {
   "codemirror_mode": {
    "name": "ipython",
    "version": 3
   },
   "file_extension": ".py",
   "mimetype": "text/x-python",
   "name": "python",
   "nbconvert_exporter": "python",
   "pygments_lexer": "ipython3",
   "version": "3.10.12"
  }
 },
 "nbformat": 4,
 "nbformat_minor": 5
}
